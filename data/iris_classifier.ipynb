{
  "cells": [
    {
      "cell_type": "markdown",
      "metadata": {
        "id": "view-in-github",
        "colab_type": "text"
      },
      "source": [
        "<a href=\"https://colab.research.google.com/github/tranphuongtruc/test/blob/develop/data/iris_classifier.ipynb\" target=\"_parent\"><img src=\"https://colab.research.google.com/assets/colab-badge.svg\" alt=\"Open In Colab\"/></a>"
      ]
    },
    {
      "cell_type": "markdown",
      "metadata": {
        "id": "P-heDlSwRFZI"
      },
      "source": [
        "### Iris classification"
      ]
    },
    {
      "cell_type": "code",
      "execution_count": null,
      "metadata": {
        "colab": {
          "background_save": true
        },
        "id": "xbBBnutMRKeY"
      },
      "outputs": [],
      "source": [
        "from sklearn import datasets\n",
        "import numpy as np\n",
        "\n",
        "def create_train_data_iris():\n",
        "  data = np.loadtxt(\"iris_data.txt\", delimiter=\",\", dtype=str)\n",
        "  return data"
      ]
    },
    {
      "cell_type": "code",
      "execution_count": null,
      "metadata": {
        "colab": {
          "background_save": true
        },
        "id": "hBnfKKK5V_jG"
      },
      "outputs": [],
      "source": [
        "def compute_prior_probablity_iris(train_data):\n",
        "  y_unique = np.unique(train_data[:,4])\n",
        "  prior_probability = np.zeros(len(y_unique))\n",
        "  for i in range(0,len(y_unique)):\n",
        "    prior_probability[i]=len(np.where(train_data[:,4] == y_unique[i])[0])/len(train_data)\n",
        "  return prior_probability"
      ]
    },
    {
      "cell_type": "code",
      "execution_count": null,
      "metadata": {
        "colab": {
          "background_save": true
        },
        "id": "kOUWrtFkb4SM"
      },
      "outputs": [],
      "source": [
        "#this function is used to compute the conditional probabilities\n",
        "#input: train data\n",
        "#output: conditional probabilities and list of feature names\n",
        "def compute_conditional_probability_iris(train_data):\n",
        "  y_unique = np.unique(train_data[:,4]) # 0 for Setosa, 1 for Versicolour, 2 for Virginica\n",
        "  x_feature = 4\n",
        "  conditional_probability = []\n",
        "  list_x_name = []\n",
        "  for i in range(0,train_data.shape[1]-1):\n",
        "    x_conditional_probability = np.zeros((len(y_unique), 2))\n",
        "    for j in range(0,len(y_unique)):\n",
        "        mean = np.mean((train_data[:,i][np.where(train_data[:,4] == y_unique[j])]).astype(float))\n",
        "        sigma =  np.std((train_data[:,i][np.where(train_data[:,4] == y_unique[j])]).astype(float))\n",
        "        sigma = sigma * sigma\n",
        "        x_conditional_probability[j]= [mean, sigma]\n",
        "\n",
        "    conditional_probability.append(x_conditional_probability)\n",
        "  return conditional_probability"
      ]
    },
    {
      "cell_type": "code",
      "execution_count": null,
      "metadata": {
        "id": "DupWNod7gawe"
      },
      "outputs": [],
      "source": [
        "import math\n",
        "#Define the Gaussian function\n",
        "def gauss(x, mean, sigma):\n",
        "  result = (1.0 / (np.sqrt(2*math.pi*sigma))) \\\n",
        "  * (np.exp(-(float(x) - mean) ** 2 / (2 * sigma)))\n",
        "  return result"
      ]
    },
    {
      "cell_type": "code",
      "execution_count": 26,
      "metadata": {
        "id": "fZ_eKZNLUpdN"
      },
      "outputs": [],
      "source": [
        "# Train Naive Bayes Model\n",
        "\n",
        "def train_gaussian_naive_bayes(train_data):\n",
        "    # Step 1: Calculate Prior Probability\n",
        "    prior_probability = compute_prior_probablity_iris(train_data)\n",
        "\n",
        "    # Step 2: Calculate Conditional Probability\n",
        "    conditional_probability  = compute_conditional_probability_iris(train_data)\n",
        "\n",
        "    return prior_probability,conditional_probability\n",
        "\n",
        "# data = create_train_data_iris()\n",
        "# conditional_probability = train_gaussian_naive_bayes(data)"
      ]
    },
    {
      "cell_type": "code",
      "execution_count": 27,
      "metadata": {
        "id": "LQuO13lscTPf"
      },
      "outputs": [],
      "source": [
        "def prediction_iris(X,  prior_probability, conditional_probability):\n",
        "\n",
        "    p0=prior_probability[0] \\\n",
        "    *gauss(X[0], conditional_probability[0][0][0],conditional_probability[0][0][1])  \\\n",
        "    *gauss(X[1], conditional_probability[1][0][0],conditional_probability[1][0][1])  \\\n",
        "    *gauss(X[2], conditional_probability[2][0][0],conditional_probability[2][0][1])  \\\n",
        "    *gauss(X[3], conditional_probability[3][0][0],conditional_probability[3][0][1])\n",
        "\n",
        "    p1=prior_probability[1] \\\n",
        "    *gauss(X[0], conditional_probability[0][1][0],conditional_probability[0][1][1])  \\\n",
        "    *gauss(X[1], conditional_probability[1][1][0],conditional_probability[1][1][1])  \\\n",
        "    *gauss(X[2], conditional_probability[2][1][0],conditional_probability[2][1][1])  \\\n",
        "    *gauss(X[3], conditional_probability[3][1][0],conditional_probability[3][1][1])\n",
        "\n",
        "    p2=prior_probability[2] \\\n",
        "    *gauss(X[0], conditional_probability[0][2][0],conditional_probability[0][2][1])  \\\n",
        "    *gauss(X[1], conditional_probability[1][2][0],conditional_probability[1][2][1])  \\\n",
        "    *gauss(X[2], conditional_probability[2][2][0],conditional_probability[2][2][1])  \\\n",
        "    *gauss(X[3], conditional_probability[3][2][0],conditional_probability[3][2][1])\n",
        "\n",
        "    list_p = [p0, p1, p2]\n",
        "\n",
        "    return list_p.index(np.max(list_p))\n"
      ]
    },
    {
      "cell_type": "code",
      "execution_count": 28,
      "metadata": {
        "colab": {
          "base_uri": "https://localhost:8080/"
        },
        "id": "89qE3MAlvnwf",
        "outputId": "81a28ae8-e4d8-45a2-f100-32c600a8522f"
      },
      "outputs": [
        {
          "output_type": "stream",
          "name": "stdout",
          "text": [
            "Iris-virginica\n"
          ]
        }
      ],
      "source": [
        "# Example 1\n",
        "X = [6.3 , 3.3, 6.0,  2.5]\n",
        "train_data = create_train_data_iris()\n",
        "y_unique = np.unique(train_data[:,4])\n",
        "prior_probability, conditional_probability = train_gaussian_naive_bayes(train_data)\n",
        "pred = y_unique[prediction_iris(X, prior_probability, conditional_probability)]\n",
        "assert pred == \"Iris-virginica\"\n",
        "print(pred)"
      ]
    },
    {
      "cell_type": "code",
      "execution_count": 29,
      "metadata": {
        "colab": {
          "base_uri": "https://localhost:8080/"
        },
        "id": "Qer_ecFSVWMz",
        "outputId": "9d12aea8-1850-4e5d-f7ac-09b216b95fbf"
      },
      "outputs": [
        {
          "output_type": "stream",
          "name": "stdout",
          "text": [
            "Iris-versicolor\n"
          ]
        }
      ],
      "source": [
        "# Example 2\n",
        "X = [5.0,2.0,3.5,1.0]\n",
        "train_data = create_train_data_iris()\n",
        "y_unique = np.unique(train_data[:,4])\n",
        "prior_probability, conditional_probability = train_gaussian_naive_bayes(train_data)\n",
        "pred = y_unique[prediction_iris(X, prior_probability, conditional_probability)]\n",
        "assert pred == \"Iris-versicolor\"\n",
        "print(pred)"
      ]
    },
    {
      "cell_type": "code",
      "execution_count": 30,
      "metadata": {
        "colab": {
          "base_uri": "https://localhost:8080/"
        },
        "id": "QC4SJF1YVmeR",
        "outputId": "11d44d8c-1395-40f6-f5d2-fb295396da65"
      },
      "outputs": [
        {
          "output_type": "stream",
          "name": "stdout",
          "text": [
            "Iris-setosa\n"
          ]
        }
      ],
      "source": [
        "# Example 3\n",
        "# X =[sepal length, sepal width, petal length, petal width]\n",
        "X = [4.9,3.1,1.5,0.1]\n",
        "train_data = create_train_data_iris()\n",
        "y_unique = np.unique(train_data[:,4])\n",
        "prior_probability, conditional_probability = train_gaussian_naive_bayes(train_data)\n",
        "pred = y_unique[prediction_iris(X, prior_probability, conditional_probability)]\n",
        "assert pred == \"Iris-setosa\"\n",
        "print(pred)"
      ]
    }
  ],
  "metadata": {
    "colab": {
      "provenance": [],
      "authorship_tag": "ABX9TyNCb0849wOepT5zwasa2JSZ",
      "include_colab_link": true
    },
    "kernelspec": {
      "display_name": "Python 3",
      "name": "python3"
    },
    "language_info": {
      "name": "python"
    }
  },
  "nbformat": 4,
  "nbformat_minor": 0
}